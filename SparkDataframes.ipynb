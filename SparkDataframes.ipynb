{
  "cells": [
    {
      "cell_type": "markdown",
      "metadata": {
        "id": "gUUTRYwJjLWV"
      },
      "source": [
        "# SparkDataFrames\n",
        "\n",
        "https://spark.apache.org/docs/3.1.1/api/python/reference/api/pyspark.sql.DataFrame.html"
      ]
    },
    {
      "cell_type": "code",
      "execution_count": 1,
      "metadata": {
        "colab": {
          "base_uri": "https://localhost:8080/"
        },
        "id": "ndqgCSU7jLWX",
        "outputId": "0b91dacb-ed22-4ad8-d07e-51fc4f9dda35"
      },
      "outputs": [
        {
          "name": "stdout",
          "output_type": "stream",
          "text": [
            "Collecting pyspark\n",
            "  Downloading pyspark-3.5.1.tar.gz (317.0 MB)\n",
            "\u001b[2K     \u001b[90m━━━━━━━━━━━━━━━━━━━━━━━━━━━━━━━━━━━━━━━━\u001b[0m \u001b[32m317.0/317.0 MB\u001b[0m \u001b[31m4.6 MB/s\u001b[0m eta \u001b[36m0:00:00\u001b[0m\n",
            "\u001b[?25h  Preparing metadata (setup.py) ... \u001b[?25l\u001b[?25hdone\n",
            "Requirement already satisfied: py4j==0.10.9.7 in /usr/local/lib/python3.10/dist-packages (from pyspark) (0.10.9.7)\n",
            "Building wheels for collected packages: pyspark\n",
            "  Building wheel for pyspark (setup.py) ... \u001b[?25l\u001b[?25hdone\n",
            "  Created wheel for pyspark: filename=pyspark-3.5.1-py2.py3-none-any.whl size=317488491 sha256=0b231e033a290a24cc3591cd9b8359d0821ddf94c8d6a2ef6aed7767c9022a9a\n",
            "  Stored in directory: /root/.cache/pip/wheels/80/1d/60/2c256ed38dddce2fdd93be545214a63e02fbd8d74fb0b7f3a6\n",
            "Successfully built pyspark\n",
            "Installing collected packages: pyspark\n",
            "Successfully installed pyspark-3.5.1\n",
            "Collecting findspark\n",
            "  Downloading findspark-2.0.1-py2.py3-none-any.whl (4.4 kB)\n",
            "Installing collected packages: findspark\n",
            "Successfully installed findspark-2.0.1\n",
            "Requirement already satisfied: pandas in /usr/local/lib/python3.10/dist-packages (2.0.3)\n",
            "Requirement already satisfied: python-dateutil>=2.8.2 in /usr/local/lib/python3.10/dist-packages (from pandas) (2.8.2)\n",
            "Requirement already satisfied: pytz>=2020.1 in /usr/local/lib/python3.10/dist-packages (from pandas) (2023.4)\n",
            "Requirement already satisfied: tzdata>=2022.1 in /usr/local/lib/python3.10/dist-packages (from pandas) (2024.1)\n",
            "Requirement already satisfied: numpy>=1.21.0 in /usr/local/lib/python3.10/dist-packages (from pandas) (1.25.2)\n",
            "Requirement already satisfied: six>=1.5 in /usr/local/lib/python3.10/dist-packages (from python-dateutil>=2.8.2->pandas) (1.16.0)\n"
          ]
        }
      ],
      "source": [
        "# Installing required packages\n",
        "!pip install pyspark\n",
        "!pip install findspark\n",
        "!pip install pandas"
      ]
    },
    {
      "cell_type": "markdown",
      "metadata": {
        "id": "U_aleQdzjLWY"
      },
      "source": [
        "## Imports & Load Data"
      ]
    },
    {
      "cell_type": "code",
      "execution_count": 2,
      "metadata": {
        "colab": {
          "base_uri": "https://localhost:8080/",
          "height": 377
        },
        "id": "POKomjeYjLWY",
        "outputId": "8982f022-28af-4a51-8e9f-66bbf202fb9b"
      },
      "outputs": [
        {
          "data": {
            "application/vnd.google.colaboratory.intrinsic+json": {
              "summary": "{\n  \"name\": \"df\",\n  \"rows\": 15517,\n  \"fields\": [\n    {\n      \"column\": \"artist\",\n      \"properties\": {\n        \"dtype\": \"string\",\n        \"num_unique_values\": 8287,\n        \"samples\": [\n          \"Back On Earth\",\n          \"Kings of Convenience\",\n          \"Seffy Efrati\"\n        ],\n        \"semantic_type\": \"\",\n        \"description\": \"\"\n      }\n    },\n    {\n      \"column\": \"track\",\n      \"properties\": {\n        \"dtype\": \"string\",\n        \"num_unique_values\": 13021,\n        \"samples\": [\n          \"Perdido\",\n          \"If You Have Ghosts\",\n          \"Cause You Got Me\"\n        ],\n        \"semantic_type\": \"\",\n        \"description\": \"\"\n      }\n    },\n    {\n      \"column\": \"popularity\",\n      \"properties\": {\n        \"dtype\": \"number\",\n        \"std\": 17.17849098535022,\n        \"min\": 1.0,\n        \"max\": 100.0,\n        \"num_unique_values\": 101,\n        \"samples\": [\n          14.0,\n          23.0,\n          61.0\n        ],\n        \"semantic_type\": \"\",\n        \"description\": \"\"\n      }\n    },\n    {\n      \"column\": \"danceability\",\n      \"properties\": {\n        \"dtype\": \"number\",\n        \"std\": 0.16683801168616924,\n        \"min\": 0.0596,\n        \"max\": 0.989,\n        \"num_unique_values\": 896,\n        \"samples\": [\n          0.302,\n          0.176,\n          0.186\n        ],\n        \"semantic_type\": \"\",\n        \"description\": \"\"\n      }\n    },\n    {\n      \"column\": \"energy\",\n      \"properties\": {\n        \"dtype\": \"number\",\n        \"std\": 0.2354020779679106,\n        \"min\": 0.00121,\n        \"max\": 1.0,\n        \"num_unique_values\": 1161,\n        \"samples\": [\n          0.328,\n          0.272,\n          0.737\n        ],\n        \"semantic_type\": \"\",\n        \"description\": \"\"\n      }\n    },\n    {\n      \"column\": \"key\",\n      \"properties\": {\n        \"dtype\": \"number\",\n        \"std\": 3.011454736512194,\n        \"min\": 1.0,\n        \"max\": 11.0,\n        \"num_unique_values\": 12,\n        \"samples\": [\n          5.964280528532017,\n          8.0,\n          1.0\n        ],\n        \"semantic_type\": \"\",\n        \"description\": \"\"\n      }\n    },\n    {\n      \"column\": \"loudness\",\n      \"properties\": {\n        \"dtype\": \"number\",\n        \"std\": 4.018688176310801,\n        \"min\": -39.952,\n        \"max\": 1.355,\n        \"num_unique_values\": 8231,\n        \"samples\": [\n          -3.806,\n          -6.296,\n          -10.809\n        ],\n        \"semantic_type\": \"\",\n        \"description\": \"\"\n      }\n    },\n    {\n      \"column\": \"mode\",\n      \"properties\": {\n        \"dtype\": \"number\",\n        \"std\": 0,\n        \"min\": 0,\n        \"max\": 1,\n        \"num_unique_values\": 2,\n        \"samples\": [\n          0,\n          1\n        ],\n        \"semantic_type\": \"\",\n        \"description\": \"\"\n      }\n    },\n    {\n      \"column\": \"speechiness\",\n      \"properties\": {\n        \"dtype\": \"number\",\n        \"std\": 0.08497689697124682,\n        \"min\": 0.0225,\n        \"max\": 0.955,\n        \"num_unique_values\": 1186,\n        \"samples\": [\n          0.0556,\n          0.0956\n        ],\n        \"semantic_type\": \"\",\n        \"description\": \"\"\n      }\n    },\n    {\n      \"column\": \"acousticness\",\n      \"properties\": {\n        \"dtype\": \"number\",\n        \"std\": 0.3096053491722663,\n        \"min\": 0.0,\n        \"max\": 0.996,\n        \"num_unique_values\": 3834,\n        \"samples\": [\n          0.0764,\n          0.0893\n        ],\n        \"semantic_type\": \"\",\n        \"description\": \"\"\n      }\n    },\n    {\n      \"column\": \"instrumentalness\",\n      \"properties\": {\n        \"dtype\": \"number\",\n        \"std\": 0.265620145228426,\n        \"min\": 1e-06,\n        \"max\": 0.996,\n        \"num_unique_values\": 4052,\n        \"samples\": [\n          0.0433,\n          4.08e-05\n        ],\n        \"semantic_type\": \"\",\n        \"description\": \"\"\n      }\n    },\n    {\n      \"column\": \"liveness\",\n      \"properties\": {\n        \"dtype\": \"number\",\n        \"std\": 0.16021205426300064,\n        \"min\": 0.0119,\n        \"max\": 1.0,\n        \"num_unique_values\": 1428,\n        \"samples\": [\n          0.148,\n          0.524\n        ],\n        \"semantic_type\": \"\",\n        \"description\": \"\"\n      }\n    },\n    {\n      \"column\": \"valence\",\n      \"properties\": {\n        \"dtype\": \"number\",\n        \"std\": 0.2402278139354795,\n        \"min\": 0.0215,\n        \"max\": 0.986,\n        \"num_unique_values\": 1281,\n        \"samples\": [\n          0.0819,\n          0.162\n        ],\n        \"semantic_type\": \"\",\n        \"description\": \"\"\n      }\n    },\n    {\n      \"column\": \"tempo\",\n      \"properties\": {\n        \"dtype\": \"number\",\n        \"std\": 29.68642874753729,\n        \"min\": 30.557,\n        \"max\": 217.416,\n        \"num_unique_values\": 11928,\n        \"samples\": [\n          163.809,\n          110.373\n        ],\n        \"semantic_type\": \"\",\n        \"description\": \"\"\n      }\n    },\n    {\n      \"column\": \"duration\",\n      \"properties\": {\n        \"dtype\": \"number\",\n        \"std\": 114.83260115578267,\n        \"min\": 0.00050165,\n        \"max\": 1477.187,\n        \"num_unique_values\": 12400,\n        \"samples\": [\n          0.00435616667,\n          0.003254\n        ],\n        \"semantic_type\": \"\",\n        \"description\": \"\"\n      }\n    },\n    {\n      \"column\": \"time_signature\",\n      \"properties\": {\n        \"dtype\": \"number\",\n        \"std\": 0,\n        \"min\": 1,\n        \"max\": 5,\n        \"num_unique_values\": 4,\n        \"samples\": [\n          3,\n          5\n        ],\n        \"semantic_type\": \"\",\n        \"description\": \"\"\n      }\n    },\n    {\n      \"column\": \"genre\",\n      \"properties\": {\n        \"dtype\": \"number\",\n        \"std\": 3,\n        \"min\": 0,\n        \"max\": 10,\n        \"num_unique_values\": 11,\n        \"samples\": [\n          8,\n          5\n        ],\n        \"semantic_type\": \"\",\n        \"description\": \"\"\n      }\n    }\n  ]\n}",
              "type": "dataframe",
              "variable_name": "df"
            },
            "text/html": [
              "\n",
              "  <div id=\"df-a7cd9e9a-ede7-44a9-a23c-52579faf4ccb\" class=\"colab-df-container\">\n",
              "    <div>\n",
              "<style scoped>\n",
              "    .dataframe tbody tr th:only-of-type {\n",
              "        vertical-align: middle;\n",
              "    }\n",
              "\n",
              "    .dataframe tbody tr th {\n",
              "        vertical-align: top;\n",
              "    }\n",
              "\n",
              "    .dataframe thead th {\n",
              "        text-align: right;\n",
              "    }\n",
              "</style>\n",
              "<table border=\"1\" class=\"dataframe\">\n",
              "  <thead>\n",
              "    <tr style=\"text-align: right;\">\n",
              "      <th></th>\n",
              "      <th>artist</th>\n",
              "      <th>track</th>\n",
              "      <th>popularity</th>\n",
              "      <th>danceability</th>\n",
              "      <th>energy</th>\n",
              "      <th>key</th>\n",
              "      <th>loudness</th>\n",
              "      <th>mode</th>\n",
              "      <th>speechiness</th>\n",
              "      <th>acousticness</th>\n",
              "      <th>instrumentalness</th>\n",
              "      <th>liveness</th>\n",
              "      <th>valence</th>\n",
              "      <th>tempo</th>\n",
              "      <th>duration</th>\n",
              "      <th>time_signature</th>\n",
              "      <th>genre</th>\n",
              "    </tr>\n",
              "  </thead>\n",
              "  <tbody>\n",
              "    <tr>\n",
              "      <th>0</th>\n",
              "      <td>Bruno Mars</td>\n",
              "      <td>That's What I Like (feat. Gucci Mane)</td>\n",
              "      <td>60.0</td>\n",
              "      <td>0.854</td>\n",
              "      <td>0.564</td>\n",
              "      <td>1.0</td>\n",
              "      <td>-4.964</td>\n",
              "      <td>1</td>\n",
              "      <td>0.0485</td>\n",
              "      <td>0.017100</td>\n",
              "      <td>0.177348</td>\n",
              "      <td>0.0849</td>\n",
              "      <td>0.8990</td>\n",
              "      <td>134.071</td>\n",
              "      <td>234.596</td>\n",
              "      <td>4</td>\n",
              "      <td>5</td>\n",
              "    </tr>\n",
              "    <tr>\n",
              "      <th>1</th>\n",
              "      <td>Boston</td>\n",
              "      <td>Hitch a Ride</td>\n",
              "      <td>54.0</td>\n",
              "      <td>0.382</td>\n",
              "      <td>0.814</td>\n",
              "      <td>3.0</td>\n",
              "      <td>-7.230</td>\n",
              "      <td>1</td>\n",
              "      <td>0.0406</td>\n",
              "      <td>0.001100</td>\n",
              "      <td>0.004010</td>\n",
              "      <td>0.1010</td>\n",
              "      <td>0.5690</td>\n",
              "      <td>116.454</td>\n",
              "      <td>251.733</td>\n",
              "      <td>4</td>\n",
              "      <td>10</td>\n",
              "    </tr>\n",
              "    <tr>\n",
              "      <th>2</th>\n",
              "      <td>The Raincoats</td>\n",
              "      <td>No Side to Fall In</td>\n",
              "      <td>35.0</td>\n",
              "      <td>0.434</td>\n",
              "      <td>0.614</td>\n",
              "      <td>6.0</td>\n",
              "      <td>-8.334</td>\n",
              "      <td>1</td>\n",
              "      <td>0.0525</td>\n",
              "      <td>0.486000</td>\n",
              "      <td>0.000196</td>\n",
              "      <td>0.3940</td>\n",
              "      <td>0.7870</td>\n",
              "      <td>147.681</td>\n",
              "      <td>109.667</td>\n",
              "      <td>4</td>\n",
              "      <td>6</td>\n",
              "    </tr>\n",
              "    <tr>\n",
              "      <th>3</th>\n",
              "      <td>Deno</td>\n",
              "      <td>Lingo (feat. J.I &amp; Chunkz)</td>\n",
              "      <td>66.0</td>\n",
              "      <td>0.853</td>\n",
              "      <td>0.597</td>\n",
              "      <td>10.0</td>\n",
              "      <td>-6.528</td>\n",
              "      <td>0</td>\n",
              "      <td>0.0555</td>\n",
              "      <td>0.021200</td>\n",
              "      <td>0.177348</td>\n",
              "      <td>0.1220</td>\n",
              "      <td>0.5690</td>\n",
              "      <td>107.033</td>\n",
              "      <td>173.968</td>\n",
              "      <td>4</td>\n",
              "      <td>5</td>\n",
              "    </tr>\n",
              "    <tr>\n",
              "      <th>4</th>\n",
              "      <td>Red Hot Chili Peppers</td>\n",
              "      <td>Nobody Weird Like Me - Remastered</td>\n",
              "      <td>53.0</td>\n",
              "      <td>0.167</td>\n",
              "      <td>0.975</td>\n",
              "      <td>2.0</td>\n",
              "      <td>-4.279</td>\n",
              "      <td>1</td>\n",
              "      <td>0.2160</td>\n",
              "      <td>0.000169</td>\n",
              "      <td>0.016100</td>\n",
              "      <td>0.1720</td>\n",
              "      <td>0.0918</td>\n",
              "      <td>199.060</td>\n",
              "      <td>229.960</td>\n",
              "      <td>4</td>\n",
              "      <td>10</td>\n",
              "    </tr>\n",
              "  </tbody>\n",
              "</table>\n",
              "</div>\n",
              "    <div class=\"colab-df-buttons\">\n",
              "\n",
              "  <div class=\"colab-df-container\">\n",
              "    <button class=\"colab-df-convert\" onclick=\"convertToInteractive('df-a7cd9e9a-ede7-44a9-a23c-52579faf4ccb')\"\n",
              "            title=\"Convert this dataframe to an interactive table.\"\n",
              "            style=\"display:none;\">\n",
              "\n",
              "  <svg xmlns=\"http://www.w3.org/2000/svg\" height=\"24px\" viewBox=\"0 -960 960 960\">\n",
              "    <path d=\"M120-120v-720h720v720H120Zm60-500h600v-160H180v160Zm220 220h160v-160H400v160Zm0 220h160v-160H400v160ZM180-400h160v-160H180v160Zm440 0h160v-160H620v160ZM180-180h160v-160H180v160Zm440 0h160v-160H620v160Z\"/>\n",
              "  </svg>\n",
              "    </button>\n",
              "\n",
              "  <style>\n",
              "    .colab-df-container {\n",
              "      display:flex;\n",
              "      gap: 12px;\n",
              "    }\n",
              "\n",
              "    .colab-df-convert {\n",
              "      background-color: #E8F0FE;\n",
              "      border: none;\n",
              "      border-radius: 50%;\n",
              "      cursor: pointer;\n",
              "      display: none;\n",
              "      fill: #1967D2;\n",
              "      height: 32px;\n",
              "      padding: 0 0 0 0;\n",
              "      width: 32px;\n",
              "    }\n",
              "\n",
              "    .colab-df-convert:hover {\n",
              "      background-color: #E2EBFA;\n",
              "      box-shadow: 0px 1px 2px rgba(60, 64, 67, 0.3), 0px 1px 3px 1px rgba(60, 64, 67, 0.15);\n",
              "      fill: #174EA6;\n",
              "    }\n",
              "\n",
              "    .colab-df-buttons div {\n",
              "      margin-bottom: 4px;\n",
              "    }\n",
              "\n",
              "    [theme=dark] .colab-df-convert {\n",
              "      background-color: #3B4455;\n",
              "      fill: #D2E3FC;\n",
              "    }\n",
              "\n",
              "    [theme=dark] .colab-df-convert:hover {\n",
              "      background-color: #434B5C;\n",
              "      box-shadow: 0px 1px 3px 1px rgba(0, 0, 0, 0.15);\n",
              "      filter: drop-shadow(0px 1px 2px rgba(0, 0, 0, 0.3));\n",
              "      fill: #FFFFFF;\n",
              "    }\n",
              "  </style>\n",
              "\n",
              "    <script>\n",
              "      const buttonEl =\n",
              "        document.querySelector('#df-a7cd9e9a-ede7-44a9-a23c-52579faf4ccb button.colab-df-convert');\n",
              "      buttonEl.style.display =\n",
              "        google.colab.kernel.accessAllowed ? 'block' : 'none';\n",
              "\n",
              "      async function convertToInteractive(key) {\n",
              "        const element = document.querySelector('#df-a7cd9e9a-ede7-44a9-a23c-52579faf4ccb');\n",
              "        const dataTable =\n",
              "          await google.colab.kernel.invokeFunction('convertToInteractive',\n",
              "                                                    [key], {});\n",
              "        if (!dataTable) return;\n",
              "\n",
              "        const docLinkHtml = 'Like what you see? Visit the ' +\n",
              "          '<a target=\"_blank\" href=https://colab.research.google.com/notebooks/data_table.ipynb>data table notebook</a>'\n",
              "          + ' to learn more about interactive tables.';\n",
              "        element.innerHTML = '';\n",
              "        dataTable['output_type'] = 'display_data';\n",
              "        await google.colab.output.renderOutput(dataTable, element);\n",
              "        const docLink = document.createElement('div');\n",
              "        docLink.innerHTML = docLinkHtml;\n",
              "        element.appendChild(docLink);\n",
              "      }\n",
              "    </script>\n",
              "  </div>\n",
              "\n",
              "\n",
              "<div id=\"df-42623a16-05f0-4176-aca5-b8d2ec221b1e\">\n",
              "  <button class=\"colab-df-quickchart\" onclick=\"quickchart('df-42623a16-05f0-4176-aca5-b8d2ec221b1e')\"\n",
              "            title=\"Suggest charts\"\n",
              "            style=\"display:none;\">\n",
              "\n",
              "<svg xmlns=\"http://www.w3.org/2000/svg\" height=\"24px\"viewBox=\"0 0 24 24\"\n",
              "     width=\"24px\">\n",
              "    <g>\n",
              "        <path d=\"M19 3H5c-1.1 0-2 .9-2 2v14c0 1.1.9 2 2 2h14c1.1 0 2-.9 2-2V5c0-1.1-.9-2-2-2zM9 17H7v-7h2v7zm4 0h-2V7h2v10zm4 0h-2v-4h2v4z\"/>\n",
              "    </g>\n",
              "</svg>\n",
              "  </button>\n",
              "\n",
              "<style>\n",
              "  .colab-df-quickchart {\n",
              "      --bg-color: #E8F0FE;\n",
              "      --fill-color: #1967D2;\n",
              "      --hover-bg-color: #E2EBFA;\n",
              "      --hover-fill-color: #174EA6;\n",
              "      --disabled-fill-color: #AAA;\n",
              "      --disabled-bg-color: #DDD;\n",
              "  }\n",
              "\n",
              "  [theme=dark] .colab-df-quickchart {\n",
              "      --bg-color: #3B4455;\n",
              "      --fill-color: #D2E3FC;\n",
              "      --hover-bg-color: #434B5C;\n",
              "      --hover-fill-color: #FFFFFF;\n",
              "      --disabled-bg-color: #3B4455;\n",
              "      --disabled-fill-color: #666;\n",
              "  }\n",
              "\n",
              "  .colab-df-quickchart {\n",
              "    background-color: var(--bg-color);\n",
              "    border: none;\n",
              "    border-radius: 50%;\n",
              "    cursor: pointer;\n",
              "    display: none;\n",
              "    fill: var(--fill-color);\n",
              "    height: 32px;\n",
              "    padding: 0;\n",
              "    width: 32px;\n",
              "  }\n",
              "\n",
              "  .colab-df-quickchart:hover {\n",
              "    background-color: var(--hover-bg-color);\n",
              "    box-shadow: 0 1px 2px rgba(60, 64, 67, 0.3), 0 1px 3px 1px rgba(60, 64, 67, 0.15);\n",
              "    fill: var(--button-hover-fill-color);\n",
              "  }\n",
              "\n",
              "  .colab-df-quickchart-complete:disabled,\n",
              "  .colab-df-quickchart-complete:disabled:hover {\n",
              "    background-color: var(--disabled-bg-color);\n",
              "    fill: var(--disabled-fill-color);\n",
              "    box-shadow: none;\n",
              "  }\n",
              "\n",
              "  .colab-df-spinner {\n",
              "    border: 2px solid var(--fill-color);\n",
              "    border-color: transparent;\n",
              "    border-bottom-color: var(--fill-color);\n",
              "    animation:\n",
              "      spin 1s steps(1) infinite;\n",
              "  }\n",
              "\n",
              "  @keyframes spin {\n",
              "    0% {\n",
              "      border-color: transparent;\n",
              "      border-bottom-color: var(--fill-color);\n",
              "      border-left-color: var(--fill-color);\n",
              "    }\n",
              "    20% {\n",
              "      border-color: transparent;\n",
              "      border-left-color: var(--fill-color);\n",
              "      border-top-color: var(--fill-color);\n",
              "    }\n",
              "    30% {\n",
              "      border-color: transparent;\n",
              "      border-left-color: var(--fill-color);\n",
              "      border-top-color: var(--fill-color);\n",
              "      border-right-color: var(--fill-color);\n",
              "    }\n",
              "    40% {\n",
              "      border-color: transparent;\n",
              "      border-right-color: var(--fill-color);\n",
              "      border-top-color: var(--fill-color);\n",
              "    }\n",
              "    60% {\n",
              "      border-color: transparent;\n",
              "      border-right-color: var(--fill-color);\n",
              "    }\n",
              "    80% {\n",
              "      border-color: transparent;\n",
              "      border-right-color: var(--fill-color);\n",
              "      border-bottom-color: var(--fill-color);\n",
              "    }\n",
              "    90% {\n",
              "      border-color: transparent;\n",
              "      border-bottom-color: var(--fill-color);\n",
              "    }\n",
              "  }\n",
              "</style>\n",
              "\n",
              "  <script>\n",
              "    async function quickchart(key) {\n",
              "      const quickchartButtonEl =\n",
              "        document.querySelector('#' + key + ' button');\n",
              "      quickchartButtonEl.disabled = true;  // To prevent multiple clicks.\n",
              "      quickchartButtonEl.classList.add('colab-df-spinner');\n",
              "      try {\n",
              "        const charts = await google.colab.kernel.invokeFunction(\n",
              "            'suggestCharts', [key], {});\n",
              "      } catch (error) {\n",
              "        console.error('Error during call to suggestCharts:', error);\n",
              "      }\n",
              "      quickchartButtonEl.classList.remove('colab-df-spinner');\n",
              "      quickchartButtonEl.classList.add('colab-df-quickchart-complete');\n",
              "    }\n",
              "    (() => {\n",
              "      let quickchartButtonEl =\n",
              "        document.querySelector('#df-42623a16-05f0-4176-aca5-b8d2ec221b1e button');\n",
              "      quickchartButtonEl.style.display =\n",
              "        google.colab.kernel.accessAllowed ? 'block' : 'none';\n",
              "    })();\n",
              "  </script>\n",
              "</div>\n",
              "\n",
              "    </div>\n",
              "  </div>\n"
            ],
            "text/plain": [
              "                  artist                                  track  popularity  \\\n",
              "0             Bruno Mars  That's What I Like (feat. Gucci Mane)        60.0   \n",
              "1                 Boston                           Hitch a Ride        54.0   \n",
              "2          The Raincoats                     No Side to Fall In        35.0   \n",
              "3                   Deno             Lingo (feat. J.I & Chunkz)        66.0   \n",
              "4  Red Hot Chili Peppers      Nobody Weird Like Me - Remastered        53.0   \n",
              "\n",
              "   danceability  energy   key  loudness  mode  speechiness  acousticness  \\\n",
              "0         0.854   0.564   1.0    -4.964     1       0.0485      0.017100   \n",
              "1         0.382   0.814   3.0    -7.230     1       0.0406      0.001100   \n",
              "2         0.434   0.614   6.0    -8.334     1       0.0525      0.486000   \n",
              "3         0.853   0.597  10.0    -6.528     0       0.0555      0.021200   \n",
              "4         0.167   0.975   2.0    -4.279     1       0.2160      0.000169   \n",
              "\n",
              "   instrumentalness  liveness  valence    tempo  duration  time_signature  \\\n",
              "0          0.177348    0.0849   0.8990  134.071   234.596               4   \n",
              "1          0.004010    0.1010   0.5690  116.454   251.733               4   \n",
              "2          0.000196    0.3940   0.7870  147.681   109.667               4   \n",
              "3          0.177348    0.1220   0.5690  107.033   173.968               4   \n",
              "4          0.016100    0.1720   0.0918  199.060   229.960               4   \n",
              "\n",
              "   genre  \n",
              "0      5  \n",
              "1     10  \n",
              "2      6  \n",
              "3      5  \n",
              "4     10  "
            ]
          },
          "execution_count": 2,
          "metadata": {},
          "output_type": "execute_result"
        }
      ],
      "source": [
        "import pandas as pd\n",
        "import numpy as np\n",
        "\n",
        "from pyspark.sql import SparkSession\n",
        "from pyspark.ml.regression import LinearRegression\n",
        "from pyspark.ml.classification import DecisionTreeClassifier\n",
        "from pyspark.ml.classification import RandomForestClassifier\n",
        "from pyspark import SparkContext\n",
        "from pyspark.ml.evaluation import RegressionEvaluator\n",
        "from pyspark.ml.feature import VectorAssembler\n",
        "from pyspark.sql.functions import col, avg , sum\n",
        "\n",
        "import findspark\n",
        "\n",
        "findspark.init()\n",
        "\n",
        "df = pd.read_csv(\"cleaned_music_streaming.csv\")\n",
        "\n",
        "df.head()"
      ]
    },
    {
      "cell_type": "markdown",
      "metadata": {
        "id": "7lr28GlujLWY"
      },
      "source": [
        "## Create Spark Context and Sessoin"
      ]
    },
    {
      "cell_type": "code",
      "execution_count": 3,
      "metadata": {
        "id": "fRu-2yCOjLWY"
      },
      "outputs": [],
      "source": [
        "# Context\n",
        "SparkContext = SparkContext()\n",
        "\n",
        "# Session\n",
        "spark = SparkSession \\\n",
        "    .builder \\\n",
        "    .appName(\"Python Spark DataFrames basic example\") \\\n",
        "    .config(\"spark.some.config.option\", \"some-value\") \\\n",
        "    .getOrCreate()"
      ]
    },
    {
      "cell_type": "code",
      "execution_count": 4,
      "metadata": {
        "id": "WRdAQ8-njLWZ"
      },
      "outputs": [],
      "source": [
        "spark_df = spark.createDataFrame(df)"
      ]
    },
    {
      "cell_type": "markdown",
      "metadata": {
        "id": "MeIgGOgSjLWZ"
      },
      "source": [
        "## PrintSchema & Show"
      ]
    },
    {
      "cell_type": "code",
      "execution_count": 5,
      "metadata": {
        "colab": {
          "base_uri": "https://localhost:8080/"
        },
        "id": "gRwVZAKRjLWZ",
        "outputId": "bba8aad7-f2b1-4cfc-a93f-7002f2c8951f"
      },
      "outputs": [
        {
          "name": "stdout",
          "output_type": "stream",
          "text": [
            "root\n",
            " |-- artist: string (nullable = true)\n",
            " |-- track: string (nullable = true)\n",
            " |-- popularity: double (nullable = true)\n",
            " |-- danceability: double (nullable = true)\n",
            " |-- energy: double (nullable = true)\n",
            " |-- key: double (nullable = true)\n",
            " |-- loudness: double (nullable = true)\n",
            " |-- mode: long (nullable = true)\n",
            " |-- speechiness: double (nullable = true)\n",
            " |-- acousticness: double (nullable = true)\n",
            " |-- instrumentalness: double (nullable = true)\n",
            " |-- liveness: double (nullable = true)\n",
            " |-- valence: double (nullable = true)\n",
            " |-- tempo: double (nullable = true)\n",
            " |-- duration: double (nullable = true)\n",
            " |-- time_signature: long (nullable = true)\n",
            " |-- genre: long (nullable = true)\n",
            "\n"
          ]
        }
      ],
      "source": [
        "spark_df.printSchema()"
      ]
    },
    {
      "cell_type": "code",
      "execution_count": 6,
      "metadata": {
        "colab": {
          "base_uri": "https://localhost:8080/"
        },
        "id": "lGXB2oF7jLWZ",
        "outputId": "cc6a8967-b3fd-4a21-c255-897e8e41f3f0"
      },
      "outputs": [
        {
          "name": "stdout",
          "output_type": "stream",
          "text": [
            "+--------------------+--------------------+----------+------------+------+----+--------+----+-----------+------------+------------------+--------+-------+-------+--------+--------------+-----+\n",
            "|              artist|               track|popularity|danceability|energy| key|loudness|mode|speechiness|acousticness|  instrumentalness|liveness|valence|  tempo|duration|time_signature|genre|\n",
            "+--------------------+--------------------+----------+------------+------+----+--------+----+-----------+------------+------------------+--------+-------+-------+--------+--------------+-----+\n",
            "|          Bruno Mars|That's What I Lik...|      60.0|       0.854| 0.564| 1.0|  -4.964|   1|     0.0485|      0.0171|0.1773476204719195|  0.0849|  0.899|134.071| 234.596|             4|    5|\n",
            "|              Boston|        Hitch a Ride|      54.0|       0.382| 0.814| 3.0|   -7.23|   1|     0.0406|      0.0011|           0.00401|   0.101|  0.569|116.454| 251.733|             4|   10|\n",
            "|       The Raincoats|  No Side to Fall In|      35.0|       0.434| 0.614| 6.0|  -8.334|   1|     0.0525|       0.486|           1.96E-4|   0.394|  0.787|147.681| 109.667|             4|    6|\n",
            "|                Deno|Lingo (feat. J.I ...|      66.0|       0.853| 0.597|10.0|  -6.528|   0|     0.0555|      0.0212|0.1773476204719195|   0.122|  0.569|107.033| 173.968|             4|    5|\n",
            "|Red Hot Chili Pep...|Nobody Weird Like...|      53.0|       0.167| 0.975| 2.0|  -4.279|   1|      0.216|     1.69E-4|            0.0161|   0.172| 0.0918| 199.06|  229.96|             4|   10|\n",
            "+--------------------+--------------------+----------+------------+------+----+--------+----+-----------+------------+------------------+--------+-------+-------+--------+--------------+-----+\n",
            "only showing top 5 rows\n",
            "\n"
          ]
        }
      ],
      "source": [
        "spark_df.show(5)"
      ]
    },
    {
      "cell_type": "markdown",
      "metadata": {
        "id": "fyRZ_FIwjLWZ"
      },
      "source": [
        "## Temp View of Data"
      ]
    },
    {
      "cell_type": "code",
      "execution_count": 7,
      "metadata": {
        "id": "oF0CC0l2jLWZ"
      },
      "outputs": [],
      "source": [
        "spark_df.createOrReplaceTempView(\"music_streaming\")"
      ]
    },
    {
      "cell_type": "markdown",
      "metadata": {
        "id": "e7qwrm6VyI3l"
      },
      "source": [
        "## Spark operations"
      ]
    },
    {
      "cell_type": "markdown",
      "metadata": {
        "id": "LhGy68gKyTl0"
      },
      "source": [
        "### Genre with the highest average popularity"
      ]
    },
    {
      "cell_type": "code",
      "execution_count": 8,
      "metadata": {
        "colab": {
          "base_uri": "https://localhost:8080/"
        },
        "id": "CqxFXClHyQg6",
        "outputId": "9f769d43-98a2-4b5b-93d4-a119fc60e398"
      },
      "outputs": [
        {
          "name": "stdout",
          "output_type": "stream",
          "text": [
            "Top 5 genres with the highest average popularity:\n",
            "+-----+-----------------+\n",
            "|genre|   avg_popularity|\n",
            "+-----+-----------------+\n",
            "|    4|56.77410851584384|\n",
            "|    9|54.87524150977302|\n",
            "|    5|51.07870208095271|\n",
            "|   10|48.40947614489272|\n",
            "|    1|45.86965588796474|\n",
            "+-----+-----------------+\n",
            "\n"
          ]
        }
      ],
      "source": [
        "avg_popularity_by_genre_df = spark_df.groupBy(\"genre\").agg(avg(\"popularity\").alias(\"avg_popularity\"))\n",
        "top_5_popular_genres = avg_popularity_by_genre_df.orderBy(col(\"avg_popularity\").desc()).limit(5)\n",
        "\n",
        "print(\"Top 5 genres with the highest average popularity:\")\n",
        "top_5_popular_genres.show()"
      ]
    },
    {
      "cell_type": "markdown",
      "metadata": {
        "id": "hUwh3foZztoI"
      },
      "source": [
        "### Artists have recorded the most number of songs with a duration of more than 5 minutes"
      ]
    },
    {
      "cell_type": "code",
      "execution_count": 9,
      "metadata": {
        "colab": {
          "base_uri": "https://localhost:8080/"
        },
        "id": "jxtKwk8GzhVT",
        "outputId": "323f16d4-e769-4d90-f752-7081101849a1"
      },
      "outputs": [
        {
          "name": "stdout",
          "output_type": "stream",
          "text": [
            "Top artist(s) with the most number of songs with duration > 5 minutes:\n",
            "+------------------+-----+\n",
            "|            artist|count|\n",
            "+------------------+-----+\n",
            "|The Rolling Stones|   31|\n",
            "|                U2|   27|\n",
            "|         Metallica|   27|\n",
            "|    The Black Keys|   22|\n",
            "|           Nirvana|   22|\n",
            "+------------------+-----+\n",
            "only showing top 5 rows\n",
            "\n"
          ]
        }
      ],
      "source": [
        "# Filter songs with a duration of more than 5 minutes\n",
        "songs_gt_5min_df = spark_df.filter(col(\"duration\") > 5)\n",
        "\n",
        "# Group by artist and count the number of songs\n",
        "artist_song_count_df = songs_gt_5min_df.groupBy(\"artist\").count()\n",
        "\n",
        "# Sort the result in descending order by the count of songs\n",
        "artist_song_count_df = artist_song_count_df.orderBy(col(\"count\").desc())\n",
        "\n",
        "# Display the top artist(s) with the most number of songs\n",
        "print(\"Top artist(s) with the most number of songs with duration > 5 minutes:\")\n",
        "artist_song_count_df.show(5)"
      ]
    },
    {
      "cell_type": "markdown",
      "metadata": {
        "id": "B-kAMnxw0Au8"
      },
      "source": [
        "### Number of songs are included in every Genre"
      ]
    },
    {
      "cell_type": "code",
      "execution_count": 10,
      "metadata": {
        "colab": {
          "base_uri": "https://localhost:8080/"
        },
        "id": "qdNrYePk0AI0",
        "outputId": "a83595b9-2406-463a-b280-0aaf17535a1d"
      },
      "outputs": [
        {
          "name": "stdout",
          "output_type": "stream",
          "text": [
            "Number of songs included in every genre:\n",
            "+-----+-----+\n",
            "|genre|count|\n",
            "+-----+-----+\n",
            "|    0|  586|\n",
            "|    7|  465|\n",
            "|    6| 2263|\n",
            "|    9| 1828|\n",
            "|    5| 1210|\n",
            "|    1| 1268|\n",
            "|   10| 4264|\n",
            "|    3|  371|\n",
            "|    8| 1704|\n",
            "|    2| 1182|\n",
            "|    4|  376|\n",
            "+-----+-----+\n",
            "\n"
          ]
        }
      ],
      "source": [
        "# Group by genre and count the number of songs for each genre\n",
        "genre_song_count_df = spark_df.groupBy(\"genre\").count()\n",
        "\n",
        "print(\"Number of songs included in every genre:\")\n",
        "genre_song_count_df.show()"
      ]
    },
    {
      "cell_type": "markdown",
      "metadata": {
        "id": "6iW2l2Ud0SJm"
      },
      "source": [
        "### Artists dominated the charts"
      ]
    },
    {
      "cell_type": "code",
      "execution_count": 11,
      "metadata": {
        "colab": {
          "base_uri": "https://localhost:8080/"
        },
        "id": "K3FxzXDh0dVS",
        "outputId": "1d6c4360-729d-4fb4-c40f-ed379e397037"
      },
      "outputs": [
        {
          "name": "stdout",
          "output_type": "stream",
          "text": [
            "Top artist(s) that dominated the charts based on total sum of popularity:\n",
            "+------------------+------------------+\n",
            "|            artist|  total_popularity|\n",
            "+------------------+------------------+\n",
            "|    Britney Spears| 2637.241221979766|\n",
            "|   Backstreet Boys|            2615.0|\n",
            "|The Rolling Stones|1838.3294319910071|\n",
            "|         Metallica|            1710.0|\n",
            "|                U2|            1648.0|\n",
            "+------------------+------------------+\n",
            "only showing top 5 rows\n",
            "\n"
          ]
        }
      ],
      "source": [
        "# Group by artist and calculate the total sum of popularity for each artist\n",
        "artist_popularity_sum_df = spark_df.groupBy(\"artist\").agg(sum(\"popularity\").alias(\"total_popularity\"))\n",
        "\n",
        "# Sort the result in descending order by the total sum of popularity\n",
        "dominant_artists_df = artist_popularity_sum_df.orderBy(col(\"total_popularity\").desc())\n",
        "\n",
        "# Display the top artist(s) with the highest total sum of popularity\n",
        "print(\"Top artist(s) that dominated the charts based on total sum of popularity:\")\n",
        "dominant_artists_df.show(5)"
      ]
    },
    {
      "cell_type": "markdown",
      "metadata": {
        "id": "i9bXBYalAiUE"
      },
      "source": [
        "### Least 5 fun/not-boring songs that can be played at a party"
      ]
    },
    {
      "cell_type": "code",
      "execution_count": 12,
      "metadata": {
        "colab": {
          "base_uri": "https://localhost:8080/"
        },
        "id": "i_joYVS9Ah2_",
        "outputId": "d3a65ee1-11b9-4831-df55-31e5bdd31250"
      },
      "outputs": [
        {
          "name": "stdout",
          "output_type": "stream",
          "text": [
            "Recommended fun/not-boring songs for a party:\n",
            "+---------------+------------------------+\n",
            "|artist         |track                   |\n",
            "+---------------+------------------------+\n",
            "|Måneskin       |Beggin'                 |\n",
            "|Doja Cat       |Kiss Me More (feat. SZA)|\n",
            "|Ed Sheeran     |Bad Habits              |\n",
            "|Doja Cat, SZA  |Kiss Me More (feat. SZA)|\n",
            "|Los Legendarios|Fiel                    |\n",
            "+---------------+------------------------+\n",
            "\n"
          ]
        }
      ],
      "source": [
        "fun_songs_df = spark_df.filter((col(\"energy\") > 0.7) & (col(\"danceability\") > 0.7))\n",
        "top_fun_songs_df = fun_songs_df.orderBy(col(\"popularity\").desc()).limit(5)\n",
        "\n",
        "print(\"Recommended fun/not-boring songs for a party:\")\n",
        "top_fun_songs_df.select(\"artist\", \"track\").show(truncate=False)\n"
      ]
    },
    {
      "cell_type": "markdown",
      "metadata": {
        "id": "6P-pqX0uPomy"
      },
      "source": [
        "# Spark ML"
      ]
    },
    {
      "cell_type": "markdown",
      "metadata": {
        "id": "bw6m6VINTtw8"
      },
      "source": [
        "### Split the data into training and testing sets & Vector assembler\n",
        "\n",
        "Vector assembler : A feature transformer that merges multiple columns into a vector column."
      ]
    },
    {
      "cell_type": "code",
      "execution_count": 29,
      "metadata": {
        "id": "i5BCG37VUGxo"
      },
      "outputs": [],
      "source": [
        "from pyspark.ml.classification import GBTClassifier, LogisticRegression\n",
        "from pyspark.ml.feature import VectorAssembler\n",
        "from pyspark.ml.evaluation import MulticlassClassificationEvaluator\n",
        "\n",
        "train_df, test_df = spark_df.randomSplit([0.60, 0.40])\n",
        "\n",
        "assembler = VectorAssembler(inputCols=['acousticness', 'danceability',\n",
        "                                       'energy',\n",
        "                                       'instrumentalness',\n",
        "                                       'liveness',\n",
        "                                       'valence',\n",
        "                                       'loudness',\n",
        "                                       'speechiness',\n",
        "                                       'tempo'],\n",
        "                           outputCol='features')\n",
        "\n",
        "# Transform the data\n",
        "train_df = assembler.transform(train_df)\n",
        "test_df = assembler.transform(test_df)\n",
        "\n",
        "knn = RandomForestClassifier(featuresCol='features', labelCol='genre',\n",
        "                             maxDepth=5, maxBins=32, numTrees=10,\n",
        "                             impurity='gini', subsamplingRate=0.8)\n",
        "\n",
        "dt = DecisionTreeClassifier(featuresCol='features', labelCol='genre',\n",
        "                            impurity='gini', maxDepth=5, maxBins=32)\n",
        "\n",
        "rf = RandomForestClassifier(featuresCol='features', labelCol='genre',\n",
        "                            impurity='gini', maxDepth=5, maxBins=32,\n",
        "                            numTrees=10, subsamplingRate=0.8)\n",
        "\n",
        "lr = LogisticRegression(featuresCol='features', labelCol='genre')\n",
        "\n",
        "knnModel = knn.fit(train_df)\n",
        "dtModel = dt.fit(train_df)\n",
        "rfModel = rf.fit(train_df)\n",
        "lrModel = lr.fit(train_df)"
      ]
    },
    {
      "cell_type": "markdown",
      "metadata": {
        "id": "Zq74ZAI1UIc1"
      },
      "source": [
        "### Predict and Evaluate the models"
      ]
    },
    {
      "cell_type": "code",
      "execution_count": 30,
      "metadata": {
        "colab": {
          "base_uri": "https://localhost:8080/"
        },
        "id": "DmUQSuJaUNeu",
        "outputId": "9eda4bf3-b9aa-40e7-9738-293b81586079"
      },
      "outputs": [
        {
          "name": "stdout",
          "output_type": "stream",
          "text": [
            "k-Nearest Neighbors Accuracy: 0.4104183109707972\n",
            "Decision Tree Accuracy: 0.4059984214680347\n",
            "Random Forest Accuracy: 0.4104183109707972\n",
            "Logistic Regression Accuracy: 0.4320441988950276\n"
          ]
        }
      ],
      "source": [
        "# Make predictions on the test data\n",
        "predictions_knn = knnModel.transform(test_df)\n",
        "predictions_dt = dtModel.transform(test_df)\n",
        "predictions_rf = rfModel.transform(test_df)\n",
        "predictions_lr = lrModel.transform(test_df)\n",
        "\n",
        "# Evaluate the accuracy of the models\n",
        "evaluator = MulticlassClassificationEvaluator(labelCol=\"genre\",\n",
        "                                              predictionCol=\"prediction\",\n",
        "                                              metricName=\"accuracy\")\n",
        "accuracy_knn = evaluator.evaluate(predictions_knn)\n",
        "accuracy_dt = evaluator.evaluate(predictions_dt)\n",
        "accuracy_rf = evaluator.evaluate(predictions_rf)\n",
        "accuracy_lr = evaluator.evaluate(predictions_lr)\n",
        "\n",
        "print(\"k-Nearest Neighbors Accuracy:\", accuracy_knn)\n",
        "print(\"Decision Tree Accuracy:\", accuracy_dt)\n",
        "print(\"Random Forest Accuracy:\", accuracy_rf)\n",
        "print(\"Logistic Regression Accuracy:\", accuracy_lr)"
      ]
    },
    {
      "cell_type": "markdown",
      "metadata": {
        "id": "RwY5TJn493E_"
      },
      "source": [
        "Best Model is Logistic Regression with the highest accuracy = 0.4320441988950276"
      ]
    }
  ],
  "metadata": {
    "colab": {
      "provenance": []
    },
    "kernelspec": {
      "display_name": "Python 3",
      "name": "python3"
    },
    "language_info": {
      "name": "python"
    }
  },
  "nbformat": 4,
  "nbformat_minor": 0
}
