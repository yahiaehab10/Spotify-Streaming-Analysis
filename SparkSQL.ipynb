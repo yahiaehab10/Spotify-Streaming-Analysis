{
  "cells": [
    {
      "cell_type": "markdown",
      "metadata": {
        "id": "wLHqzvS4EFbK"
      },
      "source": [
        "# SparkSQL\n",
        "\n",
        "https://spark.apache.org/docs/latest/sql-ref.html"
      ]
    },
    {
      "cell_type": "code",
      "source": [
        "# Installing required packages\n",
        "!pip install pyspark\n",
        "!pip install findspark\n",
        "!pip install pandas"
      ],
      "metadata": {
        "id": "gE2C-DW8ETPW",
        "outputId": "4a7bbdd0-a1c1-4133-f82f-0eaa6ccb410e",
        "colab": {
          "base_uri": "https://localhost:8080/"
        }
      },
      "execution_count": 1,
      "outputs": [
        {
          "output_type": "stream",
          "name": "stdout",
          "text": [
            "Collecting pyspark\n",
            "  Downloading pyspark-3.5.1.tar.gz (317.0 MB)\n",
            "\u001b[2K     \u001b[90m━━━━━━━━━━━━━━━━━━━━━━━━━━━━━━━━━━━━━━━━\u001b[0m \u001b[32m317.0/317.0 MB\u001b[0m \u001b[31m3.6 MB/s\u001b[0m eta \u001b[36m0:00:00\u001b[0m\n",
            "\u001b[?25h  Preparing metadata (setup.py) ... \u001b[?25l\u001b[?25hdone\n",
            "Requirement already satisfied: py4j==0.10.9.7 in /usr/local/lib/python3.10/dist-packages (from pyspark) (0.10.9.7)\n",
            "Building wheels for collected packages: pyspark\n",
            "  Building wheel for pyspark (setup.py) ... \u001b[?25l\u001b[?25hdone\n",
            "  Created wheel for pyspark: filename=pyspark-3.5.1-py2.py3-none-any.whl size=317488491 sha256=70f785efc10778299413a3853febdbbdf96782a8998dca333549d10034a3f209\n",
            "  Stored in directory: /root/.cache/pip/wheels/80/1d/60/2c256ed38dddce2fdd93be545214a63e02fbd8d74fb0b7f3a6\n",
            "Successfully built pyspark\n",
            "Installing collected packages: pyspark\n",
            "Successfully installed pyspark-3.5.1\n",
            "Collecting findspark\n",
            "  Downloading findspark-2.0.1-py2.py3-none-any.whl (4.4 kB)\n",
            "Installing collected packages: findspark\n",
            "Successfully installed findspark-2.0.1\n",
            "Requirement already satisfied: pandas in /usr/local/lib/python3.10/dist-packages (2.0.3)\n",
            "Requirement already satisfied: python-dateutil>=2.8.2 in /usr/local/lib/python3.10/dist-packages (from pandas) (2.8.2)\n",
            "Requirement already satisfied: pytz>=2020.1 in /usr/local/lib/python3.10/dist-packages (from pandas) (2023.4)\n",
            "Requirement already satisfied: tzdata>=2022.1 in /usr/local/lib/python3.10/dist-packages (from pandas) (2024.1)\n",
            "Requirement already satisfied: numpy>=1.21.0 in /usr/local/lib/python3.10/dist-packages (from pandas) (1.25.2)\n",
            "Requirement already satisfied: six>=1.5 in /usr/local/lib/python3.10/dist-packages (from python-dateutil>=2.8.2->pandas) (1.16.0)\n"
          ]
        }
      ]
    },
    {
      "cell_type": "markdown",
      "metadata": {
        "id": "R9NsBKcsEFbM"
      },
      "source": [
        "## Imports & Load Data"
      ]
    },
    {
      "cell_type": "code",
      "execution_count": 2,
      "metadata": {
        "id": "mVUHIqAaEFbM",
        "outputId": "13f5ba91-2186-41de-93fe-0ca1f4c79e4b",
        "colab": {
          "base_uri": "https://localhost:8080/",
          "height": 377
        }
      },
      "outputs": [
        {
          "output_type": "execute_result",
          "data": {
            "text/plain": [
              "                  artist                                  track  popularity  \\\n",
              "0             Bruno Mars  That's What I Like (feat. Gucci Mane)        60.0   \n",
              "1                 Boston                           Hitch a Ride        54.0   \n",
              "2          The Raincoats                     No Side to Fall In        35.0   \n",
              "3                   Deno             Lingo (feat. J.I & Chunkz)        66.0   \n",
              "4  Red Hot Chili Peppers      Nobody Weird Like Me - Remastered        53.0   \n",
              "\n",
              "   danceability  energy   key  loudness  mode  speechiness  acousticness  \\\n",
              "0         0.854   0.564   1.0    -4.964     1       0.0485      0.017100   \n",
              "1         0.382   0.814   3.0    -7.230     1       0.0406      0.001100   \n",
              "2         0.434   0.614   6.0    -8.334     1       0.0525      0.486000   \n",
              "3         0.853   0.597  10.0    -6.528     0       0.0555      0.021200   \n",
              "4         0.167   0.975   2.0    -4.279     1       0.2160      0.000169   \n",
              "\n",
              "   instrumentalness  liveness  valence    tempo  duration  time_signature  \\\n",
              "0          0.177348    0.0849   0.8990  134.071   234.596               4   \n",
              "1          0.004010    0.1010   0.5690  116.454   251.733               4   \n",
              "2          0.000196    0.3940   0.7870  147.681   109.667               4   \n",
              "3          0.177348    0.1220   0.5690  107.033   173.968               4   \n",
              "4          0.016100    0.1720   0.0918  199.060   229.960               4   \n",
              "\n",
              "   genre  \n",
              "0      5  \n",
              "1     10  \n",
              "2      6  \n",
              "3      5  \n",
              "4     10  "
            ],
            "text/html": [
              "\n",
              "  <div id=\"df-c52a7db7-56cd-4a46-b420-9bdc2069bd78\" class=\"colab-df-container\">\n",
              "    <div>\n",
              "<style scoped>\n",
              "    .dataframe tbody tr th:only-of-type {\n",
              "        vertical-align: middle;\n",
              "    }\n",
              "\n",
              "    .dataframe tbody tr th {\n",
              "        vertical-align: top;\n",
              "    }\n",
              "\n",
              "    .dataframe thead th {\n",
              "        text-align: right;\n",
              "    }\n",
              "</style>\n",
              "<table border=\"1\" class=\"dataframe\">\n",
              "  <thead>\n",
              "    <tr style=\"text-align: right;\">\n",
              "      <th></th>\n",
              "      <th>artist</th>\n",
              "      <th>track</th>\n",
              "      <th>popularity</th>\n",
              "      <th>danceability</th>\n",
              "      <th>energy</th>\n",
              "      <th>key</th>\n",
              "      <th>loudness</th>\n",
              "      <th>mode</th>\n",
              "      <th>speechiness</th>\n",
              "      <th>acousticness</th>\n",
              "      <th>instrumentalness</th>\n",
              "      <th>liveness</th>\n",
              "      <th>valence</th>\n",
              "      <th>tempo</th>\n",
              "      <th>duration</th>\n",
              "      <th>time_signature</th>\n",
              "      <th>genre</th>\n",
              "    </tr>\n",
              "  </thead>\n",
              "  <tbody>\n",
              "    <tr>\n",
              "      <th>0</th>\n",
              "      <td>Bruno Mars</td>\n",
              "      <td>That's What I Like (feat. Gucci Mane)</td>\n",
              "      <td>60.0</td>\n",
              "      <td>0.854</td>\n",
              "      <td>0.564</td>\n",
              "      <td>1.0</td>\n",
              "      <td>-4.964</td>\n",
              "      <td>1</td>\n",
              "      <td>0.0485</td>\n",
              "      <td>0.017100</td>\n",
              "      <td>0.177348</td>\n",
              "      <td>0.0849</td>\n",
              "      <td>0.8990</td>\n",
              "      <td>134.071</td>\n",
              "      <td>234.596</td>\n",
              "      <td>4</td>\n",
              "      <td>5</td>\n",
              "    </tr>\n",
              "    <tr>\n",
              "      <th>1</th>\n",
              "      <td>Boston</td>\n",
              "      <td>Hitch a Ride</td>\n",
              "      <td>54.0</td>\n",
              "      <td>0.382</td>\n",
              "      <td>0.814</td>\n",
              "      <td>3.0</td>\n",
              "      <td>-7.230</td>\n",
              "      <td>1</td>\n",
              "      <td>0.0406</td>\n",
              "      <td>0.001100</td>\n",
              "      <td>0.004010</td>\n",
              "      <td>0.1010</td>\n",
              "      <td>0.5690</td>\n",
              "      <td>116.454</td>\n",
              "      <td>251.733</td>\n",
              "      <td>4</td>\n",
              "      <td>10</td>\n",
              "    </tr>\n",
              "    <tr>\n",
              "      <th>2</th>\n",
              "      <td>The Raincoats</td>\n",
              "      <td>No Side to Fall In</td>\n",
              "      <td>35.0</td>\n",
              "      <td>0.434</td>\n",
              "      <td>0.614</td>\n",
              "      <td>6.0</td>\n",
              "      <td>-8.334</td>\n",
              "      <td>1</td>\n",
              "      <td>0.0525</td>\n",
              "      <td>0.486000</td>\n",
              "      <td>0.000196</td>\n",
              "      <td>0.3940</td>\n",
              "      <td>0.7870</td>\n",
              "      <td>147.681</td>\n",
              "      <td>109.667</td>\n",
              "      <td>4</td>\n",
              "      <td>6</td>\n",
              "    </tr>\n",
              "    <tr>\n",
              "      <th>3</th>\n",
              "      <td>Deno</td>\n",
              "      <td>Lingo (feat. J.I &amp; Chunkz)</td>\n",
              "      <td>66.0</td>\n",
              "      <td>0.853</td>\n",
              "      <td>0.597</td>\n",
              "      <td>10.0</td>\n",
              "      <td>-6.528</td>\n",
              "      <td>0</td>\n",
              "      <td>0.0555</td>\n",
              "      <td>0.021200</td>\n",
              "      <td>0.177348</td>\n",
              "      <td>0.1220</td>\n",
              "      <td>0.5690</td>\n",
              "      <td>107.033</td>\n",
              "      <td>173.968</td>\n",
              "      <td>4</td>\n",
              "      <td>5</td>\n",
              "    </tr>\n",
              "    <tr>\n",
              "      <th>4</th>\n",
              "      <td>Red Hot Chili Peppers</td>\n",
              "      <td>Nobody Weird Like Me - Remastered</td>\n",
              "      <td>53.0</td>\n",
              "      <td>0.167</td>\n",
              "      <td>0.975</td>\n",
              "      <td>2.0</td>\n",
              "      <td>-4.279</td>\n",
              "      <td>1</td>\n",
              "      <td>0.2160</td>\n",
              "      <td>0.000169</td>\n",
              "      <td>0.016100</td>\n",
              "      <td>0.1720</td>\n",
              "      <td>0.0918</td>\n",
              "      <td>199.060</td>\n",
              "      <td>229.960</td>\n",
              "      <td>4</td>\n",
              "      <td>10</td>\n",
              "    </tr>\n",
              "  </tbody>\n",
              "</table>\n",
              "</div>\n",
              "    <div class=\"colab-df-buttons\">\n",
              "\n",
              "  <div class=\"colab-df-container\">\n",
              "    <button class=\"colab-df-convert\" onclick=\"convertToInteractive('df-c52a7db7-56cd-4a46-b420-9bdc2069bd78')\"\n",
              "            title=\"Convert this dataframe to an interactive table.\"\n",
              "            style=\"display:none;\">\n",
              "\n",
              "  <svg xmlns=\"http://www.w3.org/2000/svg\" height=\"24px\" viewBox=\"0 -960 960 960\">\n",
              "    <path d=\"M120-120v-720h720v720H120Zm60-500h600v-160H180v160Zm220 220h160v-160H400v160Zm0 220h160v-160H400v160ZM180-400h160v-160H180v160Zm440 0h160v-160H620v160ZM180-180h160v-160H180v160Zm440 0h160v-160H620v160Z\"/>\n",
              "  </svg>\n",
              "    </button>\n",
              "\n",
              "  <style>\n",
              "    .colab-df-container {\n",
              "      display:flex;\n",
              "      gap: 12px;\n",
              "    }\n",
              "\n",
              "    .colab-df-convert {\n",
              "      background-color: #E8F0FE;\n",
              "      border: none;\n",
              "      border-radius: 50%;\n",
              "      cursor: pointer;\n",
              "      display: none;\n",
              "      fill: #1967D2;\n",
              "      height: 32px;\n",
              "      padding: 0 0 0 0;\n",
              "      width: 32px;\n",
              "    }\n",
              "\n",
              "    .colab-df-convert:hover {\n",
              "      background-color: #E2EBFA;\n",
              "      box-shadow: 0px 1px 2px rgba(60, 64, 67, 0.3), 0px 1px 3px 1px rgba(60, 64, 67, 0.15);\n",
              "      fill: #174EA6;\n",
              "    }\n",
              "\n",
              "    .colab-df-buttons div {\n",
              "      margin-bottom: 4px;\n",
              "    }\n",
              "\n",
              "    [theme=dark] .colab-df-convert {\n",
              "      background-color: #3B4455;\n",
              "      fill: #D2E3FC;\n",
              "    }\n",
              "\n",
              "    [theme=dark] .colab-df-convert:hover {\n",
              "      background-color: #434B5C;\n",
              "      box-shadow: 0px 1px 3px 1px rgba(0, 0, 0, 0.15);\n",
              "      filter: drop-shadow(0px 1px 2px rgba(0, 0, 0, 0.3));\n",
              "      fill: #FFFFFF;\n",
              "    }\n",
              "  </style>\n",
              "\n",
              "    <script>\n",
              "      const buttonEl =\n",
              "        document.querySelector('#df-c52a7db7-56cd-4a46-b420-9bdc2069bd78 button.colab-df-convert');\n",
              "      buttonEl.style.display =\n",
              "        google.colab.kernel.accessAllowed ? 'block' : 'none';\n",
              "\n",
              "      async function convertToInteractive(key) {\n",
              "        const element = document.querySelector('#df-c52a7db7-56cd-4a46-b420-9bdc2069bd78');\n",
              "        const dataTable =\n",
              "          await google.colab.kernel.invokeFunction('convertToInteractive',\n",
              "                                                    [key], {});\n",
              "        if (!dataTable) return;\n",
              "\n",
              "        const docLinkHtml = 'Like what you see? Visit the ' +\n",
              "          '<a target=\"_blank\" href=https://colab.research.google.com/notebooks/data_table.ipynb>data table notebook</a>'\n",
              "          + ' to learn more about interactive tables.';\n",
              "        element.innerHTML = '';\n",
              "        dataTable['output_type'] = 'display_data';\n",
              "        await google.colab.output.renderOutput(dataTable, element);\n",
              "        const docLink = document.createElement('div');\n",
              "        docLink.innerHTML = docLinkHtml;\n",
              "        element.appendChild(docLink);\n",
              "      }\n",
              "    </script>\n",
              "  </div>\n",
              "\n",
              "\n",
              "<div id=\"df-92397c87-55e8-45e8-b39c-621ca7d7861b\">\n",
              "  <button class=\"colab-df-quickchart\" onclick=\"quickchart('df-92397c87-55e8-45e8-b39c-621ca7d7861b')\"\n",
              "            title=\"Suggest charts\"\n",
              "            style=\"display:none;\">\n",
              "\n",
              "<svg xmlns=\"http://www.w3.org/2000/svg\" height=\"24px\"viewBox=\"0 0 24 24\"\n",
              "     width=\"24px\">\n",
              "    <g>\n",
              "        <path d=\"M19 3H5c-1.1 0-2 .9-2 2v14c0 1.1.9 2 2 2h14c1.1 0 2-.9 2-2V5c0-1.1-.9-2-2-2zM9 17H7v-7h2v7zm4 0h-2V7h2v10zm4 0h-2v-4h2v4z\"/>\n",
              "    </g>\n",
              "</svg>\n",
              "  </button>\n",
              "\n",
              "<style>\n",
              "  .colab-df-quickchart {\n",
              "      --bg-color: #E8F0FE;\n",
              "      --fill-color: #1967D2;\n",
              "      --hover-bg-color: #E2EBFA;\n",
              "      --hover-fill-color: #174EA6;\n",
              "      --disabled-fill-color: #AAA;\n",
              "      --disabled-bg-color: #DDD;\n",
              "  }\n",
              "\n",
              "  [theme=dark] .colab-df-quickchart {\n",
              "      --bg-color: #3B4455;\n",
              "      --fill-color: #D2E3FC;\n",
              "      --hover-bg-color: #434B5C;\n",
              "      --hover-fill-color: #FFFFFF;\n",
              "      --disabled-bg-color: #3B4455;\n",
              "      --disabled-fill-color: #666;\n",
              "  }\n",
              "\n",
              "  .colab-df-quickchart {\n",
              "    background-color: var(--bg-color);\n",
              "    border: none;\n",
              "    border-radius: 50%;\n",
              "    cursor: pointer;\n",
              "    display: none;\n",
              "    fill: var(--fill-color);\n",
              "    height: 32px;\n",
              "    padding: 0;\n",
              "    width: 32px;\n",
              "  }\n",
              "\n",
              "  .colab-df-quickchart:hover {\n",
              "    background-color: var(--hover-bg-color);\n",
              "    box-shadow: 0 1px 2px rgba(60, 64, 67, 0.3), 0 1px 3px 1px rgba(60, 64, 67, 0.15);\n",
              "    fill: var(--button-hover-fill-color);\n",
              "  }\n",
              "\n",
              "  .colab-df-quickchart-complete:disabled,\n",
              "  .colab-df-quickchart-complete:disabled:hover {\n",
              "    background-color: var(--disabled-bg-color);\n",
              "    fill: var(--disabled-fill-color);\n",
              "    box-shadow: none;\n",
              "  }\n",
              "\n",
              "  .colab-df-spinner {\n",
              "    border: 2px solid var(--fill-color);\n",
              "    border-color: transparent;\n",
              "    border-bottom-color: var(--fill-color);\n",
              "    animation:\n",
              "      spin 1s steps(1) infinite;\n",
              "  }\n",
              "\n",
              "  @keyframes spin {\n",
              "    0% {\n",
              "      border-color: transparent;\n",
              "      border-bottom-color: var(--fill-color);\n",
              "      border-left-color: var(--fill-color);\n",
              "    }\n",
              "    20% {\n",
              "      border-color: transparent;\n",
              "      border-left-color: var(--fill-color);\n",
              "      border-top-color: var(--fill-color);\n",
              "    }\n",
              "    30% {\n",
              "      border-color: transparent;\n",
              "      border-left-color: var(--fill-color);\n",
              "      border-top-color: var(--fill-color);\n",
              "      border-right-color: var(--fill-color);\n",
              "    }\n",
              "    40% {\n",
              "      border-color: transparent;\n",
              "      border-right-color: var(--fill-color);\n",
              "      border-top-color: var(--fill-color);\n",
              "    }\n",
              "    60% {\n",
              "      border-color: transparent;\n",
              "      border-right-color: var(--fill-color);\n",
              "    }\n",
              "    80% {\n",
              "      border-color: transparent;\n",
              "      border-right-color: var(--fill-color);\n",
              "      border-bottom-color: var(--fill-color);\n",
              "    }\n",
              "    90% {\n",
              "      border-color: transparent;\n",
              "      border-bottom-color: var(--fill-color);\n",
              "    }\n",
              "  }\n",
              "</style>\n",
              "\n",
              "  <script>\n",
              "    async function quickchart(key) {\n",
              "      const quickchartButtonEl =\n",
              "        document.querySelector('#' + key + ' button');\n",
              "      quickchartButtonEl.disabled = true;  // To prevent multiple clicks.\n",
              "      quickchartButtonEl.classList.add('colab-df-spinner');\n",
              "      try {\n",
              "        const charts = await google.colab.kernel.invokeFunction(\n",
              "            'suggestCharts', [key], {});\n",
              "      } catch (error) {\n",
              "        console.error('Error during call to suggestCharts:', error);\n",
              "      }\n",
              "      quickchartButtonEl.classList.remove('colab-df-spinner');\n",
              "      quickchartButtonEl.classList.add('colab-df-quickchart-complete');\n",
              "    }\n",
              "    (() => {\n",
              "      let quickchartButtonEl =\n",
              "        document.querySelector('#df-92397c87-55e8-45e8-b39c-621ca7d7861b button');\n",
              "      quickchartButtonEl.style.display =\n",
              "        google.colab.kernel.accessAllowed ? 'block' : 'none';\n",
              "    })();\n",
              "  </script>\n",
              "</div>\n",
              "\n",
              "    </div>\n",
              "  </div>\n"
            ],
            "application/vnd.google.colaboratory.intrinsic+json": {
              "type": "dataframe",
              "variable_name": "df",
              "summary": "{\n  \"name\": \"df\",\n  \"rows\": 15517,\n  \"fields\": [\n    {\n      \"column\": \"artist\",\n      \"properties\": {\n        \"dtype\": \"string\",\n        \"num_unique_values\": 8287,\n        \"samples\": [\n          \"Back On Earth\",\n          \"Kings of Convenience\",\n          \"Seffy Efrati\"\n        ],\n        \"semantic_type\": \"\",\n        \"description\": \"\"\n      }\n    },\n    {\n      \"column\": \"track\",\n      \"properties\": {\n        \"dtype\": \"string\",\n        \"num_unique_values\": 13021,\n        \"samples\": [\n          \"Perdido\",\n          \"If You Have Ghosts\",\n          \"Cause You Got Me\"\n        ],\n        \"semantic_type\": \"\",\n        \"description\": \"\"\n      }\n    },\n    {\n      \"column\": \"popularity\",\n      \"properties\": {\n        \"dtype\": \"number\",\n        \"std\": 17.17849098535022,\n        \"min\": 1.0,\n        \"max\": 100.0,\n        \"num_unique_values\": 101,\n        \"samples\": [\n          14.0,\n          23.0,\n          61.0\n        ],\n        \"semantic_type\": \"\",\n        \"description\": \"\"\n      }\n    },\n    {\n      \"column\": \"danceability\",\n      \"properties\": {\n        \"dtype\": \"number\",\n        \"std\": 0.16683801168616924,\n        \"min\": 0.0596,\n        \"max\": 0.989,\n        \"num_unique_values\": 896,\n        \"samples\": [\n          0.302,\n          0.176,\n          0.186\n        ],\n        \"semantic_type\": \"\",\n        \"description\": \"\"\n      }\n    },\n    {\n      \"column\": \"energy\",\n      \"properties\": {\n        \"dtype\": \"number\",\n        \"std\": 0.2354020779679106,\n        \"min\": 0.00121,\n        \"max\": 1.0,\n        \"num_unique_values\": 1161,\n        \"samples\": [\n          0.328,\n          0.272,\n          0.737\n        ],\n        \"semantic_type\": \"\",\n        \"description\": \"\"\n      }\n    },\n    {\n      \"column\": \"key\",\n      \"properties\": {\n        \"dtype\": \"number\",\n        \"std\": 3.011454736512194,\n        \"min\": 1.0,\n        \"max\": 11.0,\n        \"num_unique_values\": 12,\n        \"samples\": [\n          5.964280528532017,\n          8.0,\n          1.0\n        ],\n        \"semantic_type\": \"\",\n        \"description\": \"\"\n      }\n    },\n    {\n      \"column\": \"loudness\",\n      \"properties\": {\n        \"dtype\": \"number\",\n        \"std\": 4.018688176310801,\n        \"min\": -39.952,\n        \"max\": 1.355,\n        \"num_unique_values\": 8231,\n        \"samples\": [\n          -3.806,\n          -6.296,\n          -10.809\n        ],\n        \"semantic_type\": \"\",\n        \"description\": \"\"\n      }\n    },\n    {\n      \"column\": \"mode\",\n      \"properties\": {\n        \"dtype\": \"number\",\n        \"std\": 0,\n        \"min\": 0,\n        \"max\": 1,\n        \"num_unique_values\": 2,\n        \"samples\": [\n          0,\n          1\n        ],\n        \"semantic_type\": \"\",\n        \"description\": \"\"\n      }\n    },\n    {\n      \"column\": \"speechiness\",\n      \"properties\": {\n        \"dtype\": \"number\",\n        \"std\": 0.08497689697124682,\n        \"min\": 0.0225,\n        \"max\": 0.955,\n        \"num_unique_values\": 1186,\n        \"samples\": [\n          0.0556,\n          0.0956\n        ],\n        \"semantic_type\": \"\",\n        \"description\": \"\"\n      }\n    },\n    {\n      \"column\": \"acousticness\",\n      \"properties\": {\n        \"dtype\": \"number\",\n        \"std\": 0.3096053491722663,\n        \"min\": 0.0,\n        \"max\": 0.996,\n        \"num_unique_values\": 3834,\n        \"samples\": [\n          0.0764,\n          0.0893\n        ],\n        \"semantic_type\": \"\",\n        \"description\": \"\"\n      }\n    },\n    {\n      \"column\": \"instrumentalness\",\n      \"properties\": {\n        \"dtype\": \"number\",\n        \"std\": 0.265620145228426,\n        \"min\": 1e-06,\n        \"max\": 0.996,\n        \"num_unique_values\": 4052,\n        \"samples\": [\n          0.0433,\n          4.08e-05\n        ],\n        \"semantic_type\": \"\",\n        \"description\": \"\"\n      }\n    },\n    {\n      \"column\": \"liveness\",\n      \"properties\": {\n        \"dtype\": \"number\",\n        \"std\": 0.16021205426300064,\n        \"min\": 0.0119,\n        \"max\": 1.0,\n        \"num_unique_values\": 1428,\n        \"samples\": [\n          0.148,\n          0.524\n        ],\n        \"semantic_type\": \"\",\n        \"description\": \"\"\n      }\n    },\n    {\n      \"column\": \"valence\",\n      \"properties\": {\n        \"dtype\": \"number\",\n        \"std\": 0.2402278139354795,\n        \"min\": 0.0215,\n        \"max\": 0.986,\n        \"num_unique_values\": 1281,\n        \"samples\": [\n          0.0819,\n          0.162\n        ],\n        \"semantic_type\": \"\",\n        \"description\": \"\"\n      }\n    },\n    {\n      \"column\": \"tempo\",\n      \"properties\": {\n        \"dtype\": \"number\",\n        \"std\": 29.68642874753729,\n        \"min\": 30.557,\n        \"max\": 217.416,\n        \"num_unique_values\": 11928,\n        \"samples\": [\n          163.809,\n          110.373\n        ],\n        \"semantic_type\": \"\",\n        \"description\": \"\"\n      }\n    },\n    {\n      \"column\": \"duration\",\n      \"properties\": {\n        \"dtype\": \"number\",\n        \"std\": 114.83260115578267,\n        \"min\": 0.00050165,\n        \"max\": 1477.187,\n        \"num_unique_values\": 12400,\n        \"samples\": [\n          0.00435616667,\n          0.003254\n        ],\n        \"semantic_type\": \"\",\n        \"description\": \"\"\n      }\n    },\n    {\n      \"column\": \"time_signature\",\n      \"properties\": {\n        \"dtype\": \"number\",\n        \"std\": 0,\n        \"min\": 1,\n        \"max\": 5,\n        \"num_unique_values\": 4,\n        \"samples\": [\n          3,\n          5\n        ],\n        \"semantic_type\": \"\",\n        \"description\": \"\"\n      }\n    },\n    {\n      \"column\": \"genre\",\n      \"properties\": {\n        \"dtype\": \"number\",\n        \"std\": 3,\n        \"min\": 0,\n        \"max\": 10,\n        \"num_unique_values\": 11,\n        \"samples\": [\n          8,\n          5\n        ],\n        \"semantic_type\": \"\",\n        \"description\": \"\"\n      }\n    }\n  ]\n}"
            }
          },
          "metadata": {},
          "execution_count": 2
        }
      ],
      "source": [
        "import pandas as pd\n",
        "import numpy as np\n",
        "\n",
        "from pyspark.sql import SparkSession\n",
        "from pyspark.ml.regression import LinearRegression\n",
        "from pyspark.ml.classification import DecisionTreeClassifier\n",
        "from pyspark.ml.classification import RandomForestClassifier\n",
        "from pyspark import SparkContext\n",
        "\n",
        "import findspark\n",
        "findspark.init()\n",
        "\n",
        "df = pd.read_csv('cleaned_music_streaming.csv')\n",
        "\n",
        "df.head()"
      ]
    },
    {
      "cell_type": "markdown",
      "source": [
        "## Create Spark Context and Sessoin"
      ],
      "metadata": {
        "id": "_QnJY2iyEwRX"
      }
    },
    {
      "cell_type": "code",
      "source": [
        "# Context\n",
        "SparkContext = SparkContext()\n",
        "\n",
        "# Session\n",
        "spark = SparkSession \\\n",
        "    .builder \\\n",
        "    .appName(\"Python Spark DataFrames basic example\") \\\n",
        "    .config(\"spark.some.config.option\", \"some-value\") \\\n",
        "    .getOrCreate()"
      ],
      "metadata": {
        "id": "9x6QfYxAEzgu"
      },
      "execution_count": 3,
      "outputs": []
    },
    {
      "cell_type": "code",
      "source": [
        "spark_df = spark.createDataFrame(df)"
      ],
      "metadata": {
        "id": "mUV4TOcWE-sj"
      },
      "execution_count": 4,
      "outputs": []
    },
    {
      "cell_type": "markdown",
      "source": [
        "## PrintSchema & Show"
      ],
      "metadata": {
        "id": "W6B8crgiIMaw"
      }
    },
    {
      "cell_type": "code",
      "source": [
        "spark_df.printSchema()"
      ],
      "metadata": {
        "id": "byoyUiJSGFL4",
        "outputId": "58df586c-3a47-40eb-eda7-94d47eb6ffe5",
        "colab": {
          "base_uri": "https://localhost:8080/"
        }
      },
      "execution_count": 5,
      "outputs": [
        {
          "output_type": "stream",
          "name": "stdout",
          "text": [
            "root\n",
            " |-- artist: string (nullable = true)\n",
            " |-- track: string (nullable = true)\n",
            " |-- popularity: double (nullable = true)\n",
            " |-- danceability: double (nullable = true)\n",
            " |-- energy: double (nullable = true)\n",
            " |-- key: double (nullable = true)\n",
            " |-- loudness: double (nullable = true)\n",
            " |-- mode: long (nullable = true)\n",
            " |-- speechiness: double (nullable = true)\n",
            " |-- acousticness: double (nullable = true)\n",
            " |-- instrumentalness: double (nullable = true)\n",
            " |-- liveness: double (nullable = true)\n",
            " |-- valence: double (nullable = true)\n",
            " |-- tempo: double (nullable = true)\n",
            " |-- duration: double (nullable = true)\n",
            " |-- time_signature: long (nullable = true)\n",
            " |-- genre: long (nullable = true)\n",
            "\n"
          ]
        }
      ]
    },
    {
      "cell_type": "code",
      "source": [
        "spark_df.show(5)"
      ],
      "metadata": {
        "id": "WfHee9NEICSm",
        "outputId": "4f4899d2-a6b4-4ad3-b21c-ce25a3a36524",
        "colab": {
          "base_uri": "https://localhost:8080/"
        }
      },
      "execution_count": 6,
      "outputs": [
        {
          "output_type": "stream",
          "name": "stdout",
          "text": [
            "+--------------------+--------------------+----------+------------+------+----+--------+----+-----------+------------+------------------+--------+-------+-------+--------+--------------+-----+\n",
            "|              artist|               track|popularity|danceability|energy| key|loudness|mode|speechiness|acousticness|  instrumentalness|liveness|valence|  tempo|duration|time_signature|genre|\n",
            "+--------------------+--------------------+----------+------------+------+----+--------+----+-----------+------------+------------------+--------+-------+-------+--------+--------------+-----+\n",
            "|          Bruno Mars|That's What I Lik...|      60.0|       0.854| 0.564| 1.0|  -4.964|   1|     0.0485|      0.0171|0.1773476204719195|  0.0849|  0.899|134.071| 234.596|             4|    5|\n",
            "|              Boston|        Hitch a Ride|      54.0|       0.382| 0.814| 3.0|   -7.23|   1|     0.0406|      0.0011|           0.00401|   0.101|  0.569|116.454| 251.733|             4|   10|\n",
            "|       The Raincoats|  No Side to Fall In|      35.0|       0.434| 0.614| 6.0|  -8.334|   1|     0.0525|       0.486|           1.96E-4|   0.394|  0.787|147.681| 109.667|             4|    6|\n",
            "|                Deno|Lingo (feat. J.I ...|      66.0|       0.853| 0.597|10.0|  -6.528|   0|     0.0555|      0.0212|0.1773476204719195|   0.122|  0.569|107.033| 173.968|             4|    5|\n",
            "|Red Hot Chili Pep...|Nobody Weird Like...|      53.0|       0.167| 0.975| 2.0|  -4.279|   1|      0.216|     1.69E-4|            0.0161|   0.172| 0.0918| 199.06|  229.96|             4|   10|\n",
            "+--------------------+--------------------+----------+------------+------+----+--------+----+-----------+------------+------------------+--------+-------+-------+--------+--------------+-----+\n",
            "only showing top 5 rows\n",
            "\n"
          ]
        }
      ]
    },
    {
      "cell_type": "markdown",
      "source": [
        "## Temp View of Data"
      ],
      "metadata": {
        "id": "sGj0D2-uIz2e"
      }
    },
    {
      "cell_type": "code",
      "source": [
        "spark_df.createOrReplaceTempView(\"music_streaming\")"
      ],
      "metadata": {
        "id": "SdU36F-JIyOF"
      },
      "execution_count": 7,
      "outputs": []
    },
    {
      "cell_type": "markdown",
      "source": [
        "## SparkSQL Operations"
      ],
      "metadata": {
        "id": "RV7IpzK_IiZQ"
      }
    },
    {
      "cell_type": "markdown",
      "source": [
        "### Genre with the highest average popularity"
      ],
      "metadata": {
        "id": "b6SFLxb-IcBG"
      }
    },
    {
      "cell_type": "code",
      "source": [
        "highest_avg_popularity_genre = spark.sql(\"\"\"\n",
        "SELECT genre, AVG(popularity) AS avg_popularity\n",
        "FROM music_streaming\n",
        "GROUP BY genre\n",
        "ORDER BY avg_popularity DESC\n",
        "\"\"\")\n",
        "\n",
        "print(f\"Genre with the highest average popularity:\")\n",
        "highest_avg_popularity_genre.show()\n"
      ],
      "metadata": {
        "id": "dRUw3nBQIrwk",
        "outputId": "28151dc5-0984-4447-e397-ddc655b299f6",
        "colab": {
          "base_uri": "https://localhost:8080/"
        }
      },
      "execution_count": 8,
      "outputs": [
        {
          "output_type": "stream",
          "name": "stdout",
          "text": [
            "Genre with the highest average popularity:\n",
            "+-----+------------------+\n",
            "|genre|    avg_popularity|\n",
            "+-----+------------------+\n",
            "|    4| 56.77410851584384|\n",
            "|    9| 54.87524150977302|\n",
            "|    5| 51.07870208095271|\n",
            "|   10| 48.40947614489272|\n",
            "|    1| 45.86965588796474|\n",
            "|    7| 42.46446578913127|\n",
            "|    8| 42.30685937906971|\n",
            "|    6|42.196771683566084|\n",
            "|    0| 38.97471450826767|\n",
            "|    2| 33.12738634007679|\n",
            "|    3|26.772427638735238|\n",
            "+-----+------------------+\n",
            "\n"
          ]
        }
      ]
    },
    {
      "cell_type": "markdown",
      "source": [
        "### Artists have recorded the most number of songs with a duration of more than 5 minutes"
      ],
      "metadata": {
        "id": "X7hjci8_KTN2"
      }
    },
    {
      "source": [
        "most_songs_above_5min_artist = spark.sql(\"\"\"\n",
        "SELECT artist, COUNT(*) AS num_songs\n",
        "FROM music_streaming\n",
        "WHERE duration > 300\n",
        "GROUP BY artist\n",
        "ORDER BY num_songs DESC\n",
        "\"\"\")\n",
        "\n",
        "print(\"Artists with the most songs above 5 minutes:\")\n",
        "most_songs_above_5min_artist.show()\n"
      ],
      "cell_type": "code",
      "metadata": {
        "id": "2efWnPyhNZzx",
        "outputId": "9311b71a-030f-458a-ed5a-710c3eb4a0dc",
        "colab": {
          "base_uri": "https://localhost:8080/"
        }
      },
      "execution_count": 9,
      "outputs": [
        {
          "output_type": "stream",
          "name": "stdout",
          "text": [
            "Artists with the most songs above 5 minutes:\n",
            "+--------------------+---------+\n",
            "|              artist|num_songs|\n",
            "+--------------------+---------+\n",
            "|           Metallica|       21|\n",
            "|                TOOL|       13|\n",
            "|         Arcade Fire|       12|\n",
            "|        Led Zeppelin|       11|\n",
            "|           Pearl Jam|        9|\n",
            "|           Aerosmith|        9|\n",
            "|               Kyuss|        6|\n",
            "|Kenny Wayne Shepherd|        6|\n",
            "|       Wooden Shjips|        6|\n",
            "|         Sonic Youth|        6|\n",
            "|             Pantera|        6|\n",
            "|       Joe Bonamassa|        6|\n",
            "|               Opeth|        5|\n",
            "|         Patti Smith|        5|\n",
            "|        Dire Straits|        5|\n",
            "|   Avenged Sevenfold|        5|\n",
            "|      Monster Magnet|        5|\n",
            "|     Bernard Allison|        5|\n",
            "|                  U2|        5|\n",
            "| Derek & The Dominos|        5|\n",
            "+--------------------+---------+\n",
            "only showing top 20 rows\n",
            "\n"
          ]
        }
      ]
    },
    {
      "cell_type": "markdown",
      "source": [
        "### Number of songs are included in every Genre"
      ],
      "metadata": {
        "id": "tCEiXdIMN-IU"
      }
    },
    {
      "cell_type": "code",
      "source": [
        "num_songs_in_each_genre = spark.sql(\"\"\"\n",
        "SELECT genre, COUNT(*) AS num_songs\n",
        "FROM music_streaming\n",
        "GROUP BY genre\n",
        "\"\"\")\n",
        "\n",
        "print(\"Number of songs in each genre:\")\n",
        "num_songs_in_each_genre.show()\n"
      ],
      "metadata": {
        "id": "jkGKCTCkODXJ",
        "outputId": "3fc9d5bc-2a5c-46b2-a65b-7c5a241560ac",
        "colab": {
          "base_uri": "https://localhost:8080/"
        }
      },
      "execution_count": 10,
      "outputs": [
        {
          "output_type": "stream",
          "name": "stdout",
          "text": [
            "Number of songs in each genre:\n",
            "+-----+---------+\n",
            "|genre|num_songs|\n",
            "+-----+---------+\n",
            "|    0|      586|\n",
            "|    7|      465|\n",
            "|    6|     2263|\n",
            "|    9|     1828|\n",
            "|    5|     1210|\n",
            "|    1|     1268|\n",
            "|   10|     4264|\n",
            "|    3|      371|\n",
            "|    8|     1704|\n",
            "|    2|     1182|\n",
            "|    4|      376|\n",
            "+-----+---------+\n",
            "\n"
          ]
        }
      ]
    },
    {
      "cell_type": "markdown",
      "source": [
        "### Artists dominated the charts"
      ],
      "metadata": {
        "id": "qCVV7Fg3Oq2U"
      }
    },
    {
      "cell_type": "code",
      "source": [
        "most_popular_artists = spark.sql(\"\"\"\n",
        "SELECT artist, SUM(popularity) AS total_popularity\n",
        "FROM music_streaming\n",
        "GROUP BY artist\n",
        "ORDER BY total_popularity DESC\n",
        "\"\"\")\n",
        "\n",
        "print(\"Most popular artists:\")\n",
        "most_popular_artists.show()\n"
      ],
      "metadata": {
        "id": "tCBrEooMOudf",
        "outputId": "2911080a-2871-4f65-9a1b-14c19a2a1a47",
        "colab": {
          "base_uri": "https://localhost:8080/"
        }
      },
      "execution_count": 11,
      "outputs": [
        {
          "output_type": "stream",
          "name": "stdout",
          "text": [
            "Most popular artists:\n",
            "+--------------------+------------------+\n",
            "|              artist|  total_popularity|\n",
            "+--------------------+------------------+\n",
            "|      Britney Spears| 2637.241221979766|\n",
            "|     Backstreet Boys|            2615.0|\n",
            "|  The Rolling Stones|1838.3294319910071|\n",
            "|           Metallica|            1710.0|\n",
            "|                  U2|            1648.0|\n",
            "|            Westlife|1553.7236659392977|\n",
            "|               AC/DC|            1549.0|\n",
            "|            Coldplay|            1441.0|\n",
            "|         The Beatles|1409.6588639820143|\n",
            "|             Nirvana|            1385.0|\n",
            "|        Led Zeppelin|            1385.0|\n",
            "|      The Black Keys|            1299.0|\n",
            "|       Fleetwood Mac|            1248.0|\n",
            "|Creedence Clearwa...|1181.7470739932553|\n",
            "|      Arctic Monkeys|            1144.0|\n",
            "|           Aerosmith|1110.5823579977518|\n",
            "|           Pearl Jam|            1096.0|\n",
            "|           Van Halen|            1082.0|\n",
            "|The Smashing Pump...|1038.5823579977518|\n",
            "|         The Killers|  992.911789988759|\n",
            "+--------------------+------------------+\n",
            "only showing top 20 rows\n",
            "\n"
          ]
        }
      ]
    },
    {
      "cell_type": "markdown",
      "source": [
        "### Least 5 fun/not-boring songs that can be played at a party"
      ],
      "metadata": {
        "id": "wZDhS8ZZO3SZ"
      }
    },
    {
      "cell_type": "code",
      "source": [
        "party_songs = spark.sql(\"\"\"\n",
        "SELECT track AS title, artist, energy, danceability\n",
        "FROM music_streaming\n",
        "ORDER BY energy DESC, danceability DESC\n",
        "LIMIT 5\n",
        "\"\"\")\n",
        "\n",
        "print(\"Fun songs for a party:\")\n",
        "party_songs.show()\n"
      ],
      "metadata": {
        "id": "RdlmmC-WO7a4",
        "outputId": "322a624f-5caa-4f0e-d058-1c6401de3c3c",
        "colab": {
          "base_uri": "https://localhost:8080/"
        }
      },
      "execution_count": 12,
      "outputs": [
        {
          "output_type": "stream",
          "name": "stdout",
          "text": [
            "Fun songs for a party:\n",
            "+--------------------+----------+------+------------+\n",
            "|               title|    artist|energy|danceability|\n",
            "+--------------------+----------+------+------------+\n",
            "|Transilvanian Hunger|Darkthrone|   1.0|       0.267|\n",
            "|Never Let You Dow...|     Kayzo| 0.999|       0.446|\n",
            "|In the Shadow of ...|Darkthrone| 0.999|       0.141|\n",
            "|           BITE BACK| FEVER 333| 0.998|       0.545|\n",
            "|        Come with Me|   Stepson| 0.998|       0.468|\n",
            "+--------------------+----------+------+------------+\n",
            "\n"
          ]
        }
      ]
    },
    {
      "cell_type": "markdown",
      "source": [
        "# Spark ML"
      ],
      "metadata": {
        "id": "6P-pqX0uPomy"
      }
    },
    {
      "cell_type": "markdown",
      "source": [
        "### Split the data into training and testing sets & Vector assembler\n",
        "\n",
        "Vector assembler : A feature transformer that merges multiple columns into a vector column."
      ],
      "metadata": {
        "id": "bw6m6VINTtw8"
      }
    },
    {
      "cell_type": "code",
      "source": [
        "from pyspark.ml.feature import VectorAssembler\n",
        "\n",
        "train_df, test_df = spark_df.randomSplit([0.8, 0.2])\n",
        "\n",
        "\n",
        "assembler = VectorAssembler(inputCols=['acousticness',\n",
        "                                       'danceability',\n",
        "                                       'energy',\n",
        "                                       'instrumentalness',\n",
        "                                       'liveness',\n",
        "                                       'loudness',\n",
        "                                       'speechiness',\n",
        "                                       'tempo',\n",
        "                                       'valence'], outputCol='features')\n"
      ],
      "metadata": {
        "id": "z4U6MTdUTFE_"
      },
      "execution_count": 13,
      "outputs": []
    },
    {
      "cell_type": "markdown",
      "source": [
        "### Transform, Train and fit the data in the models"
      ],
      "metadata": {
        "id": "eV2kKQOdT9He"
      }
    },
    {
      "cell_type": "code",
      "source": [
        "train_df = assembler.transform(train_df)\n",
        "test_df = assembler.transform(test_df)\n",
        "\n",
        "lr = LinearRegression(featuresCol='features', labelCol='genre')\n",
        "dt = DecisionTreeClassifier(featuresCol='features', labelCol='genre')\n",
        "rf = RandomForestClassifier(featuresCol='features', labelCol='genre')\n",
        "\n",
        "lr_model = lr.fit(train_df)\n",
        "dt_model = dt.fit(train_df)\n",
        "rf_model = rf.fit(train_df)\n"
      ],
      "metadata": {
        "id": "i5BCG37VUGxo"
      },
      "execution_count": 14,
      "outputs": []
    },
    {
      "cell_type": "markdown",
      "source": [
        "### Predict and Evaluate the models"
      ],
      "metadata": {
        "id": "Zq74ZAI1UIc1"
      }
    },
    {
      "cell_type": "code",
      "source": [
        "from pyspark.ml.evaluation import RegressionEvaluator\n",
        "\n",
        "lr_predictions = lr_model.transform(test_df)\n",
        "dt_predictions = dt_model.transform(test_df)\n",
        "rf_predictions = rf_model.transform(test_df)\n",
        "\n",
        "evaluator = RegressionEvaluator(labelCol='genre', predictionCol='prediction', metricName='rmse')\n",
        "\n",
        "lr_rmse = evaluator.evaluate(lr_predictions)\n",
        "dt_rmse = evaluator.evaluate(dt_predictions)\n",
        "rf_rmse = evaluator.evaluate(rf_predictions)\n",
        "\n",
        "print(\"Linear Regression RMSE:\", lr_rmse)\n",
        "print(\"Decision Tree RMSE:\", dt_rmse)\n",
        "print(\"Random Forest RMSE:\", rf_rmse)\n"
      ],
      "metadata": {
        "id": "DmUQSuJaUNeu",
        "outputId": "1bb703f2-44a3-4462-edd0-33876fe8415a",
        "colab": {
          "base_uri": "https://localhost:8080/"
        }
      },
      "execution_count": 15,
      "outputs": [
        {
          "output_type": "stream",
          "name": "stdout",
          "text": [
            "Linear Regression RMSE: 3.0968818193754775\n",
            "Decision Tree RMSE: 4.15241155368313\n",
            "Random Forest RMSE: 4.190387075254883\n"
          ]
        }
      ]
    },
    {
      "cell_type": "markdown",
      "source": [
        "Best model Linear Regression as it has the lowest RMSE\n",
        "\n"
      ],
      "metadata": {
        "id": "0Faq5aY-UUOw"
      }
    }
  ],
  "metadata": {
    "kernelspec": {
      "display_name": "Python 3",
      "language": "python",
      "name": "python3"
    },
    "language_info": {
      "codemirror_mode": {
        "name": "ipython",
        "version": 3
      },
      "file_extension": ".py",
      "mimetype": "text/x-python",
      "name": "python",
      "nbconvert_exporter": "python",
      "pygments_lexer": "ipython3",
      "version": "3.12.1"
    },
    "colab": {
      "provenance": []
    }
  },
  "nbformat": 4,
  "nbformat_minor": 0
}